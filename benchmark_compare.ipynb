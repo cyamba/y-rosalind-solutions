{
 "cells": [
  {
   "cell_type": "code",
   "execution_count": 12,
   "id": "6be89b63-76aa-4542-bcd7-b8ab49ffc91a",
   "metadata": {},
   "outputs": [],
   "source": [
    "import os\n",
    "import sys"
   ]
  },
  {
   "cell_type": "code",
   "execution_count": 13,
   "id": "d8218a7d-57c5-43f8-a900-202022b58c09",
   "metadata": {},
   "outputs": [
    {
     "name": "stdout",
     "output_type": "stream",
     "text": [
      "Notebook running from: /Users/christopheryamba/bioinfo/y-rosalind-solutions\n"
     ]
    }
   ],
   "source": [
    "# Show the current working directory of this notebook\n",
    "print(\"Notebook running from:\", os.getcwd())"
   ]
  },
  {
   "cell_type": "code",
   "execution_count": 14,
   "id": "624d06b8-4a1f-45ba-8986-adfc004627a8",
   "metadata": {},
   "outputs": [],
   "source": [
    "# Set up project root if not already in path\n",
    "project_root = os.path.abspath(\"..\")  # adjust if needed\n",
    "if project_root not in sys.path:\n",
    "    sys.path.append(project_root)\n",
    "\n",
    "# Import the two solve functions to compare\n",
    "from solutions.counting_dna_nucleotides import solve as solve_v1\n",
    "from solutions.counting_dna_nucleotides_v2 import solve as solve_v2\n",
    "\n",
    "from utils.timer import benchmark, compare"
   ]
  },
  {
   "cell_type": "code",
   "execution_count": 15,
   "id": "e5546da2-81bb-4dd5-9b1b-9be20fa2f950",
   "metadata": {},
   "outputs": [
    {
     "name": "stdout",
     "output_type": "stream",
     "text": [
      "Loaded 965 characters of DNA\n"
     ]
    }
   ],
   "source": [
    "# Customize input file path\n",
    "input_path = os.path.join(\"data\", \"rosalind_dna.txt\")\n",
    "\n",
    "with open(input_path, \"r\") as f:\n",
    "    dna_input = f.read().strip()\n",
    "\n",
    "print(f\"Loaded {len(dna_input)} characters of DNA\")"
   ]
  },
  {
   "cell_type": "code",
   "execution_count": 16,
   "id": "a522fe14-9106-43a0-8c2a-3185bfcafe63",
   "metadata": {},
   "outputs": [
    {
     "name": "stdout",
     "output_type": "stream",
     "text": [
      "⏱ solve: 0.215 ms (0.000215 s)\n",
      "Result: 249 231 252 233\n",
      "Elapsed: 0.215 ms\n",
      "⏱ solve: 0.019 ms (0.000019 s)\n",
      "Result: 249 231 252 233\n",
      "Elapsed: 0.019 ms\n"
     ]
    }
   ],
   "source": [
    "elapsed, result = benchmark(solve_v1, dna_input)\n",
    "print(f\"Result: {result}\")\n",
    "print(f\"Elapsed: {elapsed * 1000:.3f} ms\")\n",
    "elapsed, result = benchmark(solve_v2, dna_input)\n",
    "print(f\"Result: {result}\")\n",
    "print(f\"Elapsed: {elapsed * 1000:.3f} ms\")"
   ]
  },
  {
   "cell_type": "code",
   "execution_count": 17,
   "id": "d056c1bf-df82-4f36-b487-ce46801e0e23",
   "metadata": {},
   "outputs": [
    {
     "name": "stdout",
     "output_type": "stream",
     "text": [
      "⏱ solve: 0.154 ms (0.000154 s)\n",
      "⏱ solve: 0.033 ms (0.000033 s)\n",
      "✅ Results match.\n",
      "⚡ solve is faster than solve\n",
      "   → Speedup: 4.65× (78.48% faster)\n"
     ]
    }
   ],
   "source": [
    "compare(solve_v1, solve_v2, dna_input)\n"
   ]
  },
  {
   "cell_type": "code",
   "execution_count": null,
   "id": "33f124ce-aca8-49ff-aa63-950d8ee29f5d",
   "metadata": {},
   "outputs": [],
   "source": []
  }
 ],
 "metadata": {
  "kernelspec": {
   "display_name": "Python 3 (ipykernel)",
   "language": "python",
   "name": "python3"
  },
  "language_info": {
   "codemirror_mode": {
    "name": "ipython",
    "version": 3
   },
   "file_extension": ".py",
   "mimetype": "text/x-python",
   "name": "python",
   "nbconvert_exporter": "python",
   "pygments_lexer": "ipython3",
   "version": "3.12.0"
  }
 },
 "nbformat": 4,
 "nbformat_minor": 5
}
